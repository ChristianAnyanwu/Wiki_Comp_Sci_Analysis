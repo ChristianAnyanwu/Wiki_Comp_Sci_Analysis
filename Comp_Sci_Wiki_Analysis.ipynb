{
 "cells": [
  {
   "cell_type": "markdown",
   "metadata": {},
   "source": [
    "Imports"
   ]
  },
  {
   "cell_type": "code",
   "execution_count": 75,
   "metadata": {},
   "outputs": [],
   "source": [
    "import networkx as nx\n",
    "import wikipediaapi"
   ]
  },
  {
   "cell_type": "markdown",
   "metadata": {},
   "source": [
    "Setting vars and stops (pages that have too many links that arent relevant or useful)"
   ]
  },
  {
   "cell_type": "code",
   "execution_count": 70,
   "metadata": {},
   "outputs": [],
   "source": [
    "STOPS = (\"International Standard Serial Number\",\n",
    "         \"International Standard Book Number\",\n",
    "         \"National Diet Library\",\n",
    "         \"International Standard Name Identifier\",\n",
    "         \"International Standard Book Number (Identifier)\",\n",
    "         \"Pubmed Identifier\", \"Pubmed Central\",\n",
    "         \"Digital Object Identifier\", \"Arxiv\",\n",
    "         \"Proc Natl Acad Sci Usa\", \"Bibcode\",\n",
    "         \"Library Of Congress Control Number\", \"Jstor\")\n"
   ]
  },
  {
   "cell_type": "code",
   "execution_count": 102,
   "metadata": {},
   "outputs": [],
   "source": [
    "wiki = wikipediaapi.Wikipedia('en')"
   ]
  },
  {
   "cell_type": "markdown",
   "metadata": {},
   "source": [
    "Setting SEED (starting site)"
   ]
  },
  {
   "cell_type": "code",
   "execution_count": null,
   "metadata": {},
   "outputs": [
    {
     "name": "stdout",
     "output_type": "stream",
     "text": [
      "0 Computer Science\n",
      "1 Acm Computing Classification System\n",
      "1 Abacus\n",
      "1 Academic Freedom\n",
      "1 Acid–Base Reaction\n",
      "1 Ada Lovelace\n",
      "1 Adele Goldstine\n",
      "1 Aerospace Engineering\n",
      "1 Agile Software Development\n",
      "1 Agricultural Engineering\n",
      "1 Alan Kay\n",
      "1 Alan Turing\n",
      "1 Algebra\n",
      "1 Algebraic Data Types\n",
      "1 Algorithm\n",
      "1 Algorithm Design\n",
      "1 Algorithmic Efficiency\n",
      "1 Algorithmic Trading\n",
      "1 Allen B. Tucker\n",
      "1 Alonzo Church\n",
      "1 Analysis Of Algorithms\n",
      "1 Analytical Engine\n",
      "1 Analytical Chemistry\n",
      "1 Analytical Mechanics\n",
      "1 Anatomy\n",
      "1 Anthony Ralston\n",
      "1 Anthropology\n",
      "1 Application Security\n",
      "1 Applied Mathematics\n",
      "1 Applied Physics\n",
      "1 Applied Science\n",
      "1 Archaeology\n",
      "1 Arithmometer\n",
      "1 Artificial Intelligence\n",
      "1 Aspect-Oriented Software Development\n",
      "1 Association For Computing Machinery\n",
      "1 Association For Information Systems\n",
      "1 Astrobiology\n",
      "1 Astrochemistry\n",
      "1 Astronomy\n",
      "1 Astrophysics\n",
      "1 Atomic Physics\n",
      "1 Automata Theory\n",
      "1 Automated Planning And Scheduling\n",
      "1 Barry Boehm\n",
      "1 Basic Research\n",
      "1 Bernoulli Number\n",
      "1 Bertrand Meyer\n",
      "1 Biblioteca Nacional De España\n",
      "1 Bibliothèque Nationale De France\n",
      "1 Biochemistry\n",
      "1 Bioethics\n",
      "1 Biogeography\n",
      "1 Bioinformatics\n",
      "1 Biological Engineering\n",
      "1 Biology\n",
      "1 Biomechanics\n",
      "1 Biomedical Engineering\n",
      "1 Biophysics\n",
      "1 Biostatistics\n",
      "1 Biotechnology\n",
      "1 Bletchley Park\n",
      "1 Boolean Algebra\n",
      "1 Botany\n"
     ]
    }
   ],
   "source": [
    "#starting page\n",
    "SEED = \"Computer Science\".title()\n",
    "#number of layers\n",
    "max_layers = 2\n",
    "\n",
    "#bfs lists\n",
    "todo_list = [(0,SEED)]\n",
    "todo_set = set(SEED)\n",
    "done_set = set()\n",
    "\n",
    "#instantiating graph\n",
    "G = nx.DiGraph()\n",
    "\n",
    "#starting loop\n",
    "layer , page = todo_list[0]\n",
    "\n",
    "while layer < max_layers:\n",
    "    del todo_list[0]\n",
    "    done_set.add(page)\n",
    "    print(layer,page)\n",
    "\n",
    "    try:\n",
    "        wikiPage = wiki.page(page)\n",
    "    except:\n",
    "        layer,page = todo_list[0]\n",
    "        print(\"Could not load\", page)\n",
    "        continue\n",
    "    \n",
    "    for link in wikiPage.links:\n",
    "        link = link.title()\n",
    "        if link not in STOPS and not link.startswith(\"List of\") and not link.startswith(\"Glossary Of\"):\n",
    "            if link not in todo_set and link not in done_set:\n",
    "                todo_list.append((layer + 1, link))\n",
    "                todo_set.add(link)\n",
    "            G.add_edge(page, link)\n",
    "    layer, page = todo_list[0]"
   ]
  },
  {
   "cell_type": "code",
   "execution_count": null,
   "metadata": {
    "collapsed": true
   },
   "outputs": [],
   "source": [
    "print(\"{} nodes, {} edges\".format(len(F), nx.number_of_edges(G)))"
   ]
  },
  {
   "cell_type": "code",
   "execution_count": 73,
   "metadata": {},
   "outputs": [
    {
     "ename": "NameError",
     "evalue": "name 'wikiPage' is not defined",
     "output_type": "error",
     "traceback": [
      "\u001b[1;31m---------------------------------------------------------------------------\u001b[0m",
      "\u001b[1;31mNameError\u001b[0m                                 Traceback (most recent call last)",
      "\u001b[1;32m<ipython-input-73-feb8915638fc>\u001b[0m in \u001b[0;36m<module>\u001b[1;34m()\u001b[0m\n\u001b[1;32m----> 1\u001b[1;33m \u001b[0mprint\u001b[0m\u001b[1;33m(\u001b[0m\u001b[0mwikiPage\u001b[0m\u001b[1;33m)\u001b[0m\u001b[1;33m\u001b[0m\u001b[0m\n\u001b[0m",
      "\u001b[1;31mNameError\u001b[0m: name 'wikiPage' is not defined"
     ]
    }
   ],
   "source": [
    "print(wikiPage)"
   ]
  }
 ],
 "metadata": {
  "kernelspec": {
   "display_name": "Python 3",
   "language": "python",
   "name": "python3"
  },
  "language_info": {
   "codemirror_mode": {
    "name": "ipython",
    "version": 3
   },
   "file_extension": ".py",
   "mimetype": "text/x-python",
   "name": "python",
   "nbconvert_exporter": "python",
   "pygments_lexer": "ipython3",
   "version": "3.6.3"
  }
 },
 "nbformat": 4,
 "nbformat_minor": 2
}
