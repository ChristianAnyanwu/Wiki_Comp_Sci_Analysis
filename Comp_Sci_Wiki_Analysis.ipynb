{
 "cells": [
  {
   "cell_type": "markdown",
   "metadata": {},
   "source": [
    "Imports"
   ]
  },
  {
   "cell_type": "code",
   "execution_count": 2,
   "metadata": {
    "collapsed": true
   },
   "outputs": [],
   "source": [
    "import networkx as nx\n",
    "import wikipediaapi\n",
    "from operator import itemgetter"
   ]
  },
  {
   "cell_type": "markdown",
   "metadata": {},
   "source": [
    "Setting vars and stops (pages that have too many links that arent relevant or useful)"
   ]
  },
  {
   "cell_type": "code",
   "execution_count": 3,
   "metadata": {
    "collapsed": true
   },
   "outputs": [],
   "source": [
    "STOPS = (\"International Standard Serial Number\",\n",
    "         \"International Standard Book Number\",\n",
    "         \"National Diet Library\",\n",
    "         \"International Standard Name Identifier\",\n",
    "         \"International Standard Book Number (Identifier)\",\n",
    "         \"Pubmed Identifier\", \"Pubmed Central\",\n",
    "         \"Digital Object Identifier\", \"Arxiv\",\n",
    "         \"Proc Natl Acad Sci Usa\", \"Bibcode\",\n",
    "         \"Library Of Congress Control Number\", \"Jstor\")\n"
   ]
  },
  {
   "cell_type": "code",
   "execution_count": 4,
   "metadata": {
    "collapsed": true
   },
   "outputs": [],
   "source": [
    "wiki = wikipediaapi.Wikipedia('en')"
   ]
  },
  {
   "cell_type": "markdown",
   "metadata": {},
   "source": [
    "Setting SEED (starting site)"
   ]
  },
  {
   "cell_type": "code",
   "execution_count": 5,
   "metadata": {},
   "outputs": [
    {
     "name": "stdout",
     "output_type": "stream",
     "text": [
      "0 Computer Science\n",
      "1 Acm Computing Classification System\n",
      "1 Abacus\n",
      "1 Academic Freedom\n",
      "1 Acid–Base Reaction\n",
      "1 Ada Lovelace\n",
      "1 Adele Goldstine\n",
      "1 Aerospace Engineering\n",
      "1 Agile Software Development\n",
      "1 Agricultural Engineering\n",
      "1 Alan Kay\n",
      "1 Alan Turing\n",
      "1 Algebra\n",
      "1 Algebraic Data Types\n",
      "1 Algorithm\n",
      "1 Algorithm Design\n",
      "1 Algorithmic Efficiency\n",
      "1 Algorithmic Trading\n",
      "1 Allen B. Tucker\n",
      "1 Alonzo Church\n",
      "1 Analysis Of Algorithms\n",
      "1 Analytical Engine\n",
      "1 Analytical Chemistry\n",
      "1 Analytical Mechanics\n",
      "1 Anatomy\n",
      "1 Anthony Ralston\n",
      "1 Anthropology\n",
      "1 Application Security\n",
      "1 Applied Mathematics\n",
      "1 Applied Physics\n",
      "1 Applied Science\n",
      "1 Archaeology\n",
      "1 Arithmometer\n",
      "1 Artificial Intelligence\n",
      "1 Aspect-Oriented Software Development\n",
      "1 Association For Computing Machinery\n",
      "1 Association For Information Systems\n",
      "1 Astrobiology\n",
      "1 Astrochemistry\n",
      "1 Astronomy\n",
      "1 Astrophysics\n",
      "1 Atomic Physics\n",
      "1 Automata Theory\n",
      "1 Automated Planning And Scheduling\n",
      "1 Barry Boehm\n",
      "1 Basic Research\n",
      "1 Bernoulli Number\n",
      "1 Bertrand Meyer\n",
      "1 Biblioteca Nacional De España\n",
      "1 Bibliothèque Nationale De France\n",
      "1 Biochemistry\n",
      "1 Bioethics\n",
      "1 Biogeography\n",
      "1 Bioinformatics\n",
      "1 Biological Engineering\n",
      "1 Biology\n",
      "1 Biomechanics\n",
      "1 Biomedical Engineering\n",
      "1 Biophysics\n",
      "1 Biostatistics\n",
      "1 Biotechnology\n",
      "1 Bletchley Park\n",
      "1 Boolean Algebra\n",
      "1 Botany\n",
      "1 Bottleneck (Software)\n",
      "1 Brian Randell\n",
      "1 Csab (Professional Organization)\n",
      "1 Cambridge Computer Lab\n",
      "1 Cambridge Diploma In Computer Science\n",
      "1 Cambridge University Press\n",
      "1 Capability Maturity Model Integration\n",
      "1 Category Theory\n",
      "1 Cell Biology\n",
      "1 Charles Babbage\n",
      "1 Charles Xavier Thomas\n",
      "1 Chemical Engineering\n",
      "1 Chemistry\n",
      "1 Citeseerx\n",
      "1 Citizen Science\n",
      "1 Civil Engineering\n",
      "1 Classical Mechanics\n",
      "1 Classical Physics\n",
      "1 Claude Shannon\n",
      "1 Climatology\n",
      "1 Code\n",
      "1 Code.Org\n",
      "1 Coding Theory\n",
      "1 Cognitive Science\n",
      "1 Collection Of Computer Science Bibliographies\n",
      "1 Combinatorial Optimization\n",
      "1 Communications Of The Acm\n",
      "1 Compiler Construction\n",
      "1 Complex Systems\n",
      "1 Computability\n",
      "1 Computability Theory\n",
      "1 Computation\n",
      "1 Computational Biology\n",
      "1 Computational Chemistry\n",
      "1 Computational Complexity Theory\n",
      "1 Computational Engineering\n",
      "1 Computational Geometry\n",
      "1 Computational Linguistics\n",
      "1 Computational Mathematics\n",
      "1 Computational Physics\n",
      "1 Computational Problem\n",
      "1 Computational Science\n",
      "1 Computational Social Science\n",
      "1 Computational Statistics\n",
      "1 Computer\n",
      "1 Computer-Generated Imagery\n",
      "1 Computer Science Teachers Association\n",
      "1 Computer Sciences Corporation\n",
      "1 Computer Accessibility\n",
      "1 Computer Animation\n",
      "1 Computer Architecture\n",
      "1 Computer Data Storage\n",
      "1 Computer Engineering\n",
      "1 Computer Graphics\n",
      "1 Computer Graphics (Computer Science)\n",
      "1 Computer Hardware\n",
      "1 Computer Network\n",
      "1 Computer Performance\n",
      "1 Computer Programming\n",
      "1 Computer Sciences\n",
      "1 Computer Scientist\n",
      "1 Computer Security\n",
      "1 Computer Security Compromised By Hardware Failure\n",
      "1 Computer Simulation\n",
      "1 Computer System\n",
      "1 Computer Vision\n",
      "1 Computing\n",
      "1 Computing Platform\n",
      "1 Computing Technology\n",
      "1 Concurrency (Computer Science)\n",
      "1 Concurrent Computing\n",
      "1 Condensed Matter Physics\n",
      "1 Conservation Biology\n",
      "1 Continuum Mechanics\n",
      "1 Control Theory\n",
      "1 Corrado Böhm\n",
      "1 Cosmology\n",
      "1 Createspace\n",
      "1 Criminology\n",
      "1 Cross-Validation (Statistics)\n",
      "1 Cryobiology\n",
      "1 Cryptanalysis Of The Enigma\n",
      "1 Cryptography\n",
      "1 Crystallography\n",
      "1 Cultural Studies\n",
      "1 Curlie\n",
      "1 Cybernetics\n",
      "1 Cyberwarfare\n",
      "1 Danese Cooper\n",
      "1 Data Compression\n",
      "1 Data Mining\n",
      "1 Data Model\n",
      "1 Data Modeling\n",
      "1 Data Science\n",
      "1 Data Structures\n",
      "1 Data Transmission\n",
      "1 Database\n",
      "1 Database Management System\n",
      "1 Database Model\n",
      "1 David Hemmendinger\n",
      "1 David Kahn (Writer)\n",
      "1 David Parnas\n",
      "1 Decision Support System\n",
      "1 Decision Theory\n",
      "1 Deductive Reasoning\n",
      "1 Delores M. Etter\n",
      "1 Demography\n",
      "1 Dentistry\n",
      "1 Dependability\n",
      "1 Developmental Biology\n",
      "1 Difference Engine\n",
      "1 Digital Bibliography & Library Project\n",
      "1 Digital Revolution\n",
      "1 Digital Art\n",
      "1 Digital Camera\n",
      "1 Digital Computer\n",
      "1 Digital Data\n",
      "1 Digital Library\n",
      "1 Digital Marketing\n",
      "1 Digital Physics\n",
      "1 Direct Manipulation\n",
      "1 Discrete Mathematics\n",
      "1 Distributed Artificial Intelligence\n",
      "1 Distributed Computing\n",
      "1 Document Management System\n",
      "1 Domain-Specific Language\n",
      "1 Domain Theory\n",
      "1 Donald Knuth\n",
      "1 E-Commerce\n",
      "1 Earth Science\n",
      "1 Ecology\n",
      "1 Economic Efficiency\n",
      "1 Economics\n",
      "1 Edaphology\n",
      "1 Edsger W. Dijkstra\n",
      "1 Educational Technology\n",
      "1 Edward Yourdon\n",
      "1 Edwin D. Reilly\n",
      "1 Elaine Weyuker\n",
      "1 Electrical Engineering\n",
      "1 Electromagnetism\n",
      "1 Electronic Design Automation\n",
      "1 Electronic Publishing\n",
      "1 Electronic Voting\n",
      "1 Electronics\n",
      "1 Elementary Function Arithmetic\n",
      "1 Embedded System\n",
      "1 Engineering\n",
      "1 Engineering Informatics\n",
      "1 Enigma Machine\n",
      "1 Enterprise Unified Process\n",
      "1 Enterprise Architecture\n",
      "1 Enterprise Information System\n",
      "1 Enterprise Software\n",
      "1 Entity–Relationship Model\n",
      "1 Environmental Chemistry\n"
     ]
    },
    {
     "ename": "KeyboardInterrupt",
     "evalue": "",
     "output_type": "error",
     "traceback": [
      "\u001b[1;31m---------------------------------------------------------------------------\u001b[0m",
      "\u001b[1;31mKeyboardInterrupt\u001b[0m                         Traceback (most recent call last)",
      "\u001b[1;32m<ipython-input-5-26d36b6be063>\u001b[0m in \u001b[0;36m<module>\u001b[1;34m()\u001b[0m\n\u001b[0;32m     27\u001b[0m         \u001b[1;32mcontinue\u001b[0m\u001b[1;33m\u001b[0m\u001b[0m\n\u001b[0;32m     28\u001b[0m \u001b[1;33m\u001b[0m\u001b[0m\n\u001b[1;32m---> 29\u001b[1;33m     \u001b[1;32mfor\u001b[0m \u001b[0mlink\u001b[0m \u001b[1;32min\u001b[0m \u001b[0mwikiPage\u001b[0m\u001b[1;33m.\u001b[0m\u001b[0mlinks\u001b[0m\u001b[1;33m:\u001b[0m\u001b[1;33m\u001b[0m\u001b[0m\n\u001b[0m\u001b[0;32m     30\u001b[0m         \u001b[0mlink\u001b[0m \u001b[1;33m=\u001b[0m \u001b[0mlink\u001b[0m\u001b[1;33m.\u001b[0m\u001b[0mtitle\u001b[0m\u001b[1;33m(\u001b[0m\u001b[1;33m)\u001b[0m\u001b[1;33m\u001b[0m\u001b[0m\n\u001b[0;32m     31\u001b[0m         \u001b[1;32mif\u001b[0m \u001b[0mlink\u001b[0m \u001b[1;32mnot\u001b[0m \u001b[1;32min\u001b[0m \u001b[0mSTOPS\u001b[0m \u001b[1;32mand\u001b[0m \u001b[1;32mnot\u001b[0m \u001b[0mlink\u001b[0m\u001b[1;33m.\u001b[0m\u001b[0mstartswith\u001b[0m\u001b[1;33m(\u001b[0m\u001b[1;34m\"List Of\"\u001b[0m\u001b[1;33m)\u001b[0m \u001b[1;32mand\u001b[0m \u001b[1;32mnot\u001b[0m \u001b[0mlink\u001b[0m\u001b[1;33m.\u001b[0m\u001b[0mstartswith\u001b[0m\u001b[1;33m(\u001b[0m\u001b[1;34m\"Glossary Of\"\u001b[0m\u001b[1;33m)\u001b[0m\u001b[1;33m:\u001b[0m\u001b[1;33m\u001b[0m\u001b[0m\n",
      "\u001b[1;32m~\\Anaconda3\\lib\\site-packages\\wikipediaapi\\wikipedia.py\u001b[0m in \u001b[0;36mlinks\u001b[1;34m(self)\u001b[0m\n\u001b[0;32m    720\u001b[0m     \u001b[1;32mdef\u001b[0m \u001b[0mlinks\u001b[0m\u001b[1;33m(\u001b[0m\u001b[0mself\u001b[0m\u001b[1;33m)\u001b[0m\u001b[1;33m:\u001b[0m\u001b[1;33m\u001b[0m\u001b[0m\n\u001b[0;32m    721\u001b[0m         \u001b[1;32mif\u001b[0m \u001b[1;32mnot\u001b[0m \u001b[0mself\u001b[0m\u001b[1;33m.\u001b[0m\u001b[0m_called\u001b[0m\u001b[1;33m[\u001b[0m\u001b[1;34m'links'\u001b[0m\u001b[1;33m]\u001b[0m\u001b[1;33m:\u001b[0m\u001b[1;33m\u001b[0m\u001b[0m\n\u001b[1;32m--> 722\u001b[1;33m             \u001b[0mself\u001b[0m\u001b[1;33m.\u001b[0m\u001b[0m_fetch\u001b[0m\u001b[1;33m(\u001b[0m\u001b[1;34m'links'\u001b[0m\u001b[1;33m)\u001b[0m\u001b[1;33m\u001b[0m\u001b[0m\n\u001b[0m\u001b[0;32m    723\u001b[0m         \u001b[1;32mreturn\u001b[0m \u001b[0mself\u001b[0m\u001b[1;33m.\u001b[0m\u001b[0m_links\u001b[0m\u001b[1;33m\u001b[0m\u001b[0m\n\u001b[0;32m    724\u001b[0m \u001b[1;33m\u001b[0m\u001b[0m\n",
      "\u001b[1;32m~\\Anaconda3\\lib\\site-packages\\wikipediaapi\\wikipedia.py\u001b[0m in \u001b[0;36m_fetch\u001b[1;34m(self, call)\u001b[0m\n\u001b[0;32m    742\u001b[0m \u001b[1;33m\u001b[0m\u001b[0m\n\u001b[0;32m    743\u001b[0m     \u001b[1;32mdef\u001b[0m \u001b[0m_fetch\u001b[0m\u001b[1;33m(\u001b[0m\u001b[0mself\u001b[0m\u001b[1;33m,\u001b[0m \u001b[0mcall\u001b[0m\u001b[1;33m)\u001b[0m \u001b[1;33m->\u001b[0m \u001b[1;34m'WikipediaPage'\u001b[0m\u001b[1;33m:\u001b[0m\u001b[1;33m\u001b[0m\u001b[0m\n\u001b[1;32m--> 744\u001b[1;33m         \u001b[0mgetattr\u001b[0m\u001b[1;33m(\u001b[0m\u001b[0mself\u001b[0m\u001b[1;33m.\u001b[0m\u001b[0mwiki\u001b[0m\u001b[1;33m,\u001b[0m \u001b[1;34m'_'\u001b[0m \u001b[1;33m+\u001b[0m \u001b[0mcall\u001b[0m\u001b[1;33m)\u001b[0m\u001b[1;33m(\u001b[0m\u001b[0mself\u001b[0m\u001b[1;33m)\u001b[0m\u001b[1;33m\u001b[0m\u001b[0m\n\u001b[0m\u001b[0;32m    745\u001b[0m         \u001b[0mself\u001b[0m\u001b[1;33m.\u001b[0m\u001b[0m_called\u001b[0m\u001b[1;33m[\u001b[0m\u001b[0mcall\u001b[0m\u001b[1;33m]\u001b[0m \u001b[1;33m=\u001b[0m \u001b[1;32mTrue\u001b[0m\u001b[1;33m\u001b[0m\u001b[0m\n\u001b[0;32m    746\u001b[0m         \u001b[1;32mreturn\u001b[0m \u001b[0mself\u001b[0m\u001b[1;33m\u001b[0m\u001b[0m\n",
      "\u001b[1;32m~\\Anaconda3\\lib\\site-packages\\wikipediaapi\\wikipedia.py\u001b[0m in \u001b[0;36m_links\u001b[1;34m(self, page)\u001b[0m\n\u001b[0;32m    228\u001b[0m         raw = self._query(\n\u001b[0;32m    229\u001b[0m             \u001b[0mpage\u001b[0m\u001b[1;33m,\u001b[0m\u001b[1;33m\u001b[0m\u001b[0m\n\u001b[1;32m--> 230\u001b[1;33m             \u001b[0mparams\u001b[0m\u001b[1;33m\u001b[0m\u001b[0m\n\u001b[0m\u001b[0;32m    231\u001b[0m         )\n\u001b[0;32m    232\u001b[0m         \u001b[0mself\u001b[0m\u001b[1;33m.\u001b[0m\u001b[0m_common_attributes\u001b[0m\u001b[1;33m(\u001b[0m\u001b[0mraw\u001b[0m\u001b[1;33m[\u001b[0m\u001b[1;34m'query'\u001b[0m\u001b[1;33m]\u001b[0m\u001b[1;33m,\u001b[0m \u001b[0mpage\u001b[0m\u001b[1;33m)\u001b[0m\u001b[1;33m\u001b[0m\u001b[0m\n",
      "\u001b[1;32m~\\Anaconda3\\lib\\site-packages\\wikipediaapi\\wikipedia.py\u001b[0m in \u001b[0;36m_query\u001b[1;34m(self, page, params)\u001b[0m\n\u001b[0;32m    359\u001b[0m             \u001b[0mparams\u001b[0m\u001b[1;33m=\u001b[0m\u001b[0mparams\u001b[0m\u001b[1;33m,\u001b[0m\u001b[1;33m\u001b[0m\u001b[0m\n\u001b[0;32m    360\u001b[0m             \u001b[0mheaders\u001b[0m\u001b[1;33m=\u001b[0m\u001b[0mheaders\u001b[0m\u001b[1;33m,\u001b[0m\u001b[1;33m\u001b[0m\u001b[0m\n\u001b[1;32m--> 361\u001b[1;33m             \u001b[0mtimeout\u001b[0m\u001b[1;33m=\u001b[0m\u001b[0mself\u001b[0m\u001b[1;33m.\u001b[0m\u001b[0mtimeout\u001b[0m\u001b[1;33m,\u001b[0m\u001b[1;33m\u001b[0m\u001b[0m\n\u001b[0m\u001b[0;32m    362\u001b[0m         )\n\u001b[0;32m    363\u001b[0m         \u001b[1;32mreturn\u001b[0m \u001b[0mr\u001b[0m\u001b[1;33m.\u001b[0m\u001b[0mjson\u001b[0m\u001b[1;33m(\u001b[0m\u001b[1;33m)\u001b[0m\u001b[1;33m\u001b[0m\u001b[0m\n",
      "\u001b[1;32m~\\Anaconda3\\lib\\site-packages\\requests\\api.py\u001b[0m in \u001b[0;36mget\u001b[1;34m(url, params, **kwargs)\u001b[0m\n\u001b[0;32m     70\u001b[0m \u001b[1;33m\u001b[0m\u001b[0m\n\u001b[0;32m     71\u001b[0m     \u001b[0mkwargs\u001b[0m\u001b[1;33m.\u001b[0m\u001b[0msetdefault\u001b[0m\u001b[1;33m(\u001b[0m\u001b[1;34m'allow_redirects'\u001b[0m\u001b[1;33m,\u001b[0m \u001b[1;32mTrue\u001b[0m\u001b[1;33m)\u001b[0m\u001b[1;33m\u001b[0m\u001b[0m\n\u001b[1;32m---> 72\u001b[1;33m     \u001b[1;32mreturn\u001b[0m \u001b[0mrequest\u001b[0m\u001b[1;33m(\u001b[0m\u001b[1;34m'get'\u001b[0m\u001b[1;33m,\u001b[0m \u001b[0murl\u001b[0m\u001b[1;33m,\u001b[0m \u001b[0mparams\u001b[0m\u001b[1;33m=\u001b[0m\u001b[0mparams\u001b[0m\u001b[1;33m,\u001b[0m \u001b[1;33m**\u001b[0m\u001b[0mkwargs\u001b[0m\u001b[1;33m)\u001b[0m\u001b[1;33m\u001b[0m\u001b[0m\n\u001b[0m\u001b[0;32m     73\u001b[0m \u001b[1;33m\u001b[0m\u001b[0m\n\u001b[0;32m     74\u001b[0m \u001b[1;33m\u001b[0m\u001b[0m\n",
      "\u001b[1;32m~\\Anaconda3\\lib\\site-packages\\requests\\api.py\u001b[0m in \u001b[0;36mrequest\u001b[1;34m(method, url, **kwargs)\u001b[0m\n\u001b[0;32m     56\u001b[0m     \u001b[1;31m# cases, and look like a memory leak in others.\u001b[0m\u001b[1;33m\u001b[0m\u001b[1;33m\u001b[0m\u001b[0m\n\u001b[0;32m     57\u001b[0m     \u001b[1;32mwith\u001b[0m \u001b[0msessions\u001b[0m\u001b[1;33m.\u001b[0m\u001b[0mSession\u001b[0m\u001b[1;33m(\u001b[0m\u001b[1;33m)\u001b[0m \u001b[1;32mas\u001b[0m \u001b[0msession\u001b[0m\u001b[1;33m:\u001b[0m\u001b[1;33m\u001b[0m\u001b[0m\n\u001b[1;32m---> 58\u001b[1;33m         \u001b[1;32mreturn\u001b[0m \u001b[0msession\u001b[0m\u001b[1;33m.\u001b[0m\u001b[0mrequest\u001b[0m\u001b[1;33m(\u001b[0m\u001b[0mmethod\u001b[0m\u001b[1;33m=\u001b[0m\u001b[0mmethod\u001b[0m\u001b[1;33m,\u001b[0m \u001b[0murl\u001b[0m\u001b[1;33m=\u001b[0m\u001b[0murl\u001b[0m\u001b[1;33m,\u001b[0m \u001b[1;33m**\u001b[0m\u001b[0mkwargs\u001b[0m\u001b[1;33m)\u001b[0m\u001b[1;33m\u001b[0m\u001b[0m\n\u001b[0m\u001b[0;32m     59\u001b[0m \u001b[1;33m\u001b[0m\u001b[0m\n\u001b[0;32m     60\u001b[0m \u001b[1;33m\u001b[0m\u001b[0m\n",
      "\u001b[1;32m~\\Anaconda3\\lib\\site-packages\\requests\\sessions.py\u001b[0m in \u001b[0;36mrequest\u001b[1;34m(self, method, url, params, data, headers, cookies, files, auth, timeout, allow_redirects, proxies, hooks, stream, verify, cert, json)\u001b[0m\n\u001b[0;32m    506\u001b[0m         }\n\u001b[0;32m    507\u001b[0m         \u001b[0msend_kwargs\u001b[0m\u001b[1;33m.\u001b[0m\u001b[0mupdate\u001b[0m\u001b[1;33m(\u001b[0m\u001b[0msettings\u001b[0m\u001b[1;33m)\u001b[0m\u001b[1;33m\u001b[0m\u001b[0m\n\u001b[1;32m--> 508\u001b[1;33m         \u001b[0mresp\u001b[0m \u001b[1;33m=\u001b[0m \u001b[0mself\u001b[0m\u001b[1;33m.\u001b[0m\u001b[0msend\u001b[0m\u001b[1;33m(\u001b[0m\u001b[0mprep\u001b[0m\u001b[1;33m,\u001b[0m \u001b[1;33m**\u001b[0m\u001b[0msend_kwargs\u001b[0m\u001b[1;33m)\u001b[0m\u001b[1;33m\u001b[0m\u001b[0m\n\u001b[0m\u001b[0;32m    509\u001b[0m \u001b[1;33m\u001b[0m\u001b[0m\n\u001b[0;32m    510\u001b[0m         \u001b[1;32mreturn\u001b[0m \u001b[0mresp\u001b[0m\u001b[1;33m\u001b[0m\u001b[0m\n",
      "\u001b[1;32m~\\Anaconda3\\lib\\site-packages\\requests\\sessions.py\u001b[0m in \u001b[0;36msend\u001b[1;34m(self, request, **kwargs)\u001b[0m\n\u001b[0;32m    638\u001b[0m \u001b[1;33m\u001b[0m\u001b[0m\n\u001b[0;32m    639\u001b[0m         \u001b[1;31m# Resolve redirects if allowed.\u001b[0m\u001b[1;33m\u001b[0m\u001b[1;33m\u001b[0m\u001b[0m\n\u001b[1;32m--> 640\u001b[1;33m         \u001b[0mhistory\u001b[0m \u001b[1;33m=\u001b[0m \u001b[1;33m[\u001b[0m\u001b[0mresp\u001b[0m \u001b[1;32mfor\u001b[0m \u001b[0mresp\u001b[0m \u001b[1;32min\u001b[0m \u001b[0mgen\u001b[0m\u001b[1;33m]\u001b[0m \u001b[1;32mif\u001b[0m \u001b[0mallow_redirects\u001b[0m \u001b[1;32melse\u001b[0m \u001b[1;33m[\u001b[0m\u001b[1;33m]\u001b[0m\u001b[1;33m\u001b[0m\u001b[0m\n\u001b[0m\u001b[0;32m    641\u001b[0m \u001b[1;33m\u001b[0m\u001b[0m\n\u001b[0;32m    642\u001b[0m         \u001b[1;31m# Shuffle things around if there's history.\u001b[0m\u001b[1;33m\u001b[0m\u001b[1;33m\u001b[0m\u001b[0m\n",
      "\u001b[1;32m~\\Anaconda3\\lib\\site-packages\\requests\\sessions.py\u001b[0m in \u001b[0;36m<listcomp>\u001b[1;34m(.0)\u001b[0m\n\u001b[0;32m    638\u001b[0m \u001b[1;33m\u001b[0m\u001b[0m\n\u001b[0;32m    639\u001b[0m         \u001b[1;31m# Resolve redirects if allowed.\u001b[0m\u001b[1;33m\u001b[0m\u001b[1;33m\u001b[0m\u001b[0m\n\u001b[1;32m--> 640\u001b[1;33m         \u001b[0mhistory\u001b[0m \u001b[1;33m=\u001b[0m \u001b[1;33m[\u001b[0m\u001b[0mresp\u001b[0m \u001b[1;32mfor\u001b[0m \u001b[0mresp\u001b[0m \u001b[1;32min\u001b[0m \u001b[0mgen\u001b[0m\u001b[1;33m]\u001b[0m \u001b[1;32mif\u001b[0m \u001b[0mallow_redirects\u001b[0m \u001b[1;32melse\u001b[0m \u001b[1;33m[\u001b[0m\u001b[1;33m]\u001b[0m\u001b[1;33m\u001b[0m\u001b[0m\n\u001b[0m\u001b[0;32m    641\u001b[0m \u001b[1;33m\u001b[0m\u001b[0m\n\u001b[0;32m    642\u001b[0m         \u001b[1;31m# Shuffle things around if there's history.\u001b[0m\u001b[1;33m\u001b[0m\u001b[1;33m\u001b[0m\u001b[0m\n",
      "\u001b[1;32m~\\Anaconda3\\lib\\site-packages\\requests\\sessions.py\u001b[0m in \u001b[0;36mresolve_redirects\u001b[1;34m(self, resp, req, stream, timeout, verify, cert, proxies, yield_requests, **adapter_kwargs)\u001b[0m\n\u001b[0;32m    216\u001b[0m                     \u001b[0mproxies\u001b[0m\u001b[1;33m=\u001b[0m\u001b[0mproxies\u001b[0m\u001b[1;33m,\u001b[0m\u001b[1;33m\u001b[0m\u001b[0m\n\u001b[0;32m    217\u001b[0m                     \u001b[0mallow_redirects\u001b[0m\u001b[1;33m=\u001b[0m\u001b[1;32mFalse\u001b[0m\u001b[1;33m,\u001b[0m\u001b[1;33m\u001b[0m\u001b[0m\n\u001b[1;32m--> 218\u001b[1;33m                     \u001b[1;33m**\u001b[0m\u001b[0madapter_kwargs\u001b[0m\u001b[1;33m\u001b[0m\u001b[0m\n\u001b[0m\u001b[0;32m    219\u001b[0m                 )\n\u001b[0;32m    220\u001b[0m \u001b[1;33m\u001b[0m\u001b[0m\n",
      "\u001b[1;32m~\\Anaconda3\\lib\\site-packages\\requests\\sessions.py\u001b[0m in \u001b[0;36msend\u001b[1;34m(self, request, **kwargs)\u001b[0m\n\u001b[0;32m    616\u001b[0m \u001b[1;33m\u001b[0m\u001b[0m\n\u001b[0;32m    617\u001b[0m         \u001b[1;31m# Send the request\u001b[0m\u001b[1;33m\u001b[0m\u001b[1;33m\u001b[0m\u001b[0m\n\u001b[1;32m--> 618\u001b[1;33m         \u001b[0mr\u001b[0m \u001b[1;33m=\u001b[0m \u001b[0madapter\u001b[0m\u001b[1;33m.\u001b[0m\u001b[0msend\u001b[0m\u001b[1;33m(\u001b[0m\u001b[0mrequest\u001b[0m\u001b[1;33m,\u001b[0m \u001b[1;33m**\u001b[0m\u001b[0mkwargs\u001b[0m\u001b[1;33m)\u001b[0m\u001b[1;33m\u001b[0m\u001b[0m\n\u001b[0m\u001b[0;32m    619\u001b[0m \u001b[1;33m\u001b[0m\u001b[0m\n\u001b[0;32m    620\u001b[0m         \u001b[1;31m# Total elapsed time of the request (approximately)\u001b[0m\u001b[1;33m\u001b[0m\u001b[1;33m\u001b[0m\u001b[0m\n",
      "\u001b[1;32m~\\Anaconda3\\lib\\site-packages\\requests\\adapters.py\u001b[0m in \u001b[0;36msend\u001b[1;34m(self, request, stream, timeout, verify, cert, proxies)\u001b[0m\n\u001b[0;32m    438\u001b[0m                     \u001b[0mdecode_content\u001b[0m\u001b[1;33m=\u001b[0m\u001b[1;32mFalse\u001b[0m\u001b[1;33m,\u001b[0m\u001b[1;33m\u001b[0m\u001b[0m\n\u001b[0;32m    439\u001b[0m                     \u001b[0mretries\u001b[0m\u001b[1;33m=\u001b[0m\u001b[0mself\u001b[0m\u001b[1;33m.\u001b[0m\u001b[0mmax_retries\u001b[0m\u001b[1;33m,\u001b[0m\u001b[1;33m\u001b[0m\u001b[0m\n\u001b[1;32m--> 440\u001b[1;33m                     \u001b[0mtimeout\u001b[0m\u001b[1;33m=\u001b[0m\u001b[0mtimeout\u001b[0m\u001b[1;33m\u001b[0m\u001b[0m\n\u001b[0m\u001b[0;32m    441\u001b[0m                 )\n\u001b[0;32m    442\u001b[0m \u001b[1;33m\u001b[0m\u001b[0m\n",
      "\u001b[1;32m~\\Anaconda3\\lib\\site-packages\\urllib3\\connectionpool.py\u001b[0m in \u001b[0;36murlopen\u001b[1;34m(self, method, url, body, headers, retries, redirect, assert_same_host, timeout, pool_timeout, release_conn, chunked, body_pos, **response_kw)\u001b[0m\n\u001b[0;32m    599\u001b[0m                                                   \u001b[0mtimeout\u001b[0m\u001b[1;33m=\u001b[0m\u001b[0mtimeout_obj\u001b[0m\u001b[1;33m,\u001b[0m\u001b[1;33m\u001b[0m\u001b[0m\n\u001b[0;32m    600\u001b[0m                                                   \u001b[0mbody\u001b[0m\u001b[1;33m=\u001b[0m\u001b[0mbody\u001b[0m\u001b[1;33m,\u001b[0m \u001b[0mheaders\u001b[0m\u001b[1;33m=\u001b[0m\u001b[0mheaders\u001b[0m\u001b[1;33m,\u001b[0m\u001b[1;33m\u001b[0m\u001b[0m\n\u001b[1;32m--> 601\u001b[1;33m                                                   chunked=chunked)\n\u001b[0m\u001b[0;32m    602\u001b[0m \u001b[1;33m\u001b[0m\u001b[0m\n\u001b[0;32m    603\u001b[0m             \u001b[1;31m# If we're going to release the connection in ``finally:``, then\u001b[0m\u001b[1;33m\u001b[0m\u001b[1;33m\u001b[0m\u001b[0m\n",
      "\u001b[1;32m~\\Anaconda3\\lib\\site-packages\\urllib3\\connectionpool.py\u001b[0m in \u001b[0;36m_make_request\u001b[1;34m(self, conn, method, url, timeout, chunked, **httplib_request_kw)\u001b[0m\n\u001b[0;32m    344\u001b[0m         \u001b[1;31m# Trigger any extra validation we need to do.\u001b[0m\u001b[1;33m\u001b[0m\u001b[1;33m\u001b[0m\u001b[0m\n\u001b[0;32m    345\u001b[0m         \u001b[1;32mtry\u001b[0m\u001b[1;33m:\u001b[0m\u001b[1;33m\u001b[0m\u001b[0m\n\u001b[1;32m--> 346\u001b[1;33m             \u001b[0mself\u001b[0m\u001b[1;33m.\u001b[0m\u001b[0m_validate_conn\u001b[0m\u001b[1;33m(\u001b[0m\u001b[0mconn\u001b[0m\u001b[1;33m)\u001b[0m\u001b[1;33m\u001b[0m\u001b[0m\n\u001b[0m\u001b[0;32m    347\u001b[0m         \u001b[1;32mexcept\u001b[0m \u001b[1;33m(\u001b[0m\u001b[0mSocketTimeout\u001b[0m\u001b[1;33m,\u001b[0m \u001b[0mBaseSSLError\u001b[0m\u001b[1;33m)\u001b[0m \u001b[1;32mas\u001b[0m \u001b[0me\u001b[0m\u001b[1;33m:\u001b[0m\u001b[1;33m\u001b[0m\u001b[0m\n\u001b[0;32m    348\u001b[0m             \u001b[1;31m# Py2 raises this as a BaseSSLError, Py3 raises it as socket timeout.\u001b[0m\u001b[1;33m\u001b[0m\u001b[1;33m\u001b[0m\u001b[0m\n",
      "\u001b[1;32m~\\Anaconda3\\lib\\site-packages\\urllib3\\connectionpool.py\u001b[0m in \u001b[0;36m_validate_conn\u001b[1;34m(self, conn)\u001b[0m\n\u001b[0;32m    848\u001b[0m         \u001b[1;31m# Force connect early to allow us to validate the connection.\u001b[0m\u001b[1;33m\u001b[0m\u001b[1;33m\u001b[0m\u001b[0m\n\u001b[0;32m    849\u001b[0m         \u001b[1;32mif\u001b[0m \u001b[1;32mnot\u001b[0m \u001b[0mgetattr\u001b[0m\u001b[1;33m(\u001b[0m\u001b[0mconn\u001b[0m\u001b[1;33m,\u001b[0m \u001b[1;34m'sock'\u001b[0m\u001b[1;33m,\u001b[0m \u001b[1;32mNone\u001b[0m\u001b[1;33m)\u001b[0m\u001b[1;33m:\u001b[0m  \u001b[1;31m# AppEngine might not have  `.sock`\u001b[0m\u001b[1;33m\u001b[0m\u001b[0m\n\u001b[1;32m--> 850\u001b[1;33m             \u001b[0mconn\u001b[0m\u001b[1;33m.\u001b[0m\u001b[0mconnect\u001b[0m\u001b[1;33m(\u001b[0m\u001b[1;33m)\u001b[0m\u001b[1;33m\u001b[0m\u001b[0m\n\u001b[0m\u001b[0;32m    851\u001b[0m \u001b[1;33m\u001b[0m\u001b[0m\n\u001b[0;32m    852\u001b[0m         \u001b[1;32mif\u001b[0m \u001b[1;32mnot\u001b[0m \u001b[0mconn\u001b[0m\u001b[1;33m.\u001b[0m\u001b[0mis_verified\u001b[0m\u001b[1;33m:\u001b[0m\u001b[1;33m\u001b[0m\u001b[0m\n",
      "\u001b[1;32m~\\Anaconda3\\lib\\site-packages\\urllib3\\connection.py\u001b[0m in \u001b[0;36mconnect\u001b[1;34m(self)\u001b[0m\n\u001b[0;32m    282\u001b[0m     \u001b[1;32mdef\u001b[0m \u001b[0mconnect\u001b[0m\u001b[1;33m(\u001b[0m\u001b[0mself\u001b[0m\u001b[1;33m)\u001b[0m\u001b[1;33m:\u001b[0m\u001b[1;33m\u001b[0m\u001b[0m\n\u001b[0;32m    283\u001b[0m         \u001b[1;31m# Add certificate verification\u001b[0m\u001b[1;33m\u001b[0m\u001b[1;33m\u001b[0m\u001b[0m\n\u001b[1;32m--> 284\u001b[1;33m         \u001b[0mconn\u001b[0m \u001b[1;33m=\u001b[0m \u001b[0mself\u001b[0m\u001b[1;33m.\u001b[0m\u001b[0m_new_conn\u001b[0m\u001b[1;33m(\u001b[0m\u001b[1;33m)\u001b[0m\u001b[1;33m\u001b[0m\u001b[0m\n\u001b[0m\u001b[0;32m    285\u001b[0m \u001b[1;33m\u001b[0m\u001b[0m\n\u001b[0;32m    286\u001b[0m         \u001b[0mhostname\u001b[0m \u001b[1;33m=\u001b[0m \u001b[0mself\u001b[0m\u001b[1;33m.\u001b[0m\u001b[0mhost\u001b[0m\u001b[1;33m\u001b[0m\u001b[0m\n",
      "\u001b[1;32m~\\Anaconda3\\lib\\site-packages\\urllib3\\connection.py\u001b[0m in \u001b[0;36m_new_conn\u001b[1;34m(self)\u001b[0m\n\u001b[0;32m    139\u001b[0m         \u001b[1;32mtry\u001b[0m\u001b[1;33m:\u001b[0m\u001b[1;33m\u001b[0m\u001b[0m\n\u001b[0;32m    140\u001b[0m             conn = connection.create_connection(\n\u001b[1;32m--> 141\u001b[1;33m                 (self.host, self.port), self.timeout, **extra_kw)\n\u001b[0m\u001b[0;32m    142\u001b[0m \u001b[1;33m\u001b[0m\u001b[0m\n\u001b[0;32m    143\u001b[0m         \u001b[1;32mexcept\u001b[0m \u001b[0mSocketTimeout\u001b[0m \u001b[1;32mas\u001b[0m \u001b[0me\u001b[0m\u001b[1;33m:\u001b[0m\u001b[1;33m\u001b[0m\u001b[0m\n",
      "\u001b[1;32m~\\Anaconda3\\lib\\site-packages\\urllib3\\util\\connection.py\u001b[0m in \u001b[0;36mcreate_connection\u001b[1;34m(address, timeout, source_address, socket_options)\u001b[0m\n\u001b[0;32m     71\u001b[0m             \u001b[1;32mif\u001b[0m \u001b[0msource_address\u001b[0m\u001b[1;33m:\u001b[0m\u001b[1;33m\u001b[0m\u001b[0m\n\u001b[0;32m     72\u001b[0m                 \u001b[0msock\u001b[0m\u001b[1;33m.\u001b[0m\u001b[0mbind\u001b[0m\u001b[1;33m(\u001b[0m\u001b[0msource_address\u001b[0m\u001b[1;33m)\u001b[0m\u001b[1;33m\u001b[0m\u001b[0m\n\u001b[1;32m---> 73\u001b[1;33m             \u001b[0msock\u001b[0m\u001b[1;33m.\u001b[0m\u001b[0mconnect\u001b[0m\u001b[1;33m(\u001b[0m\u001b[0msa\u001b[0m\u001b[1;33m)\u001b[0m\u001b[1;33m\u001b[0m\u001b[0m\n\u001b[0m\u001b[0;32m     74\u001b[0m             \u001b[1;32mreturn\u001b[0m \u001b[0msock\u001b[0m\u001b[1;33m\u001b[0m\u001b[0m\n\u001b[0;32m     75\u001b[0m \u001b[1;33m\u001b[0m\u001b[0m\n",
      "\u001b[1;31mKeyboardInterrupt\u001b[0m: "
     ]
    }
   ],
   "source": [
    "#starting page\n",
    "SEED = \"Computer Science\".title()\n",
    "#number of layers\n",
    "max_layers = 2\n",
    "\n",
    "#bfs lists\n",
    "todo_list = [(0,SEED)]\n",
    "todo_set = set(SEED)\n",
    "done_set = set()\n",
    "\n",
    "#instantiating graph\n",
    "G = nx.DiGraph()\n",
    "\n",
    "#starting loop\n",
    "layer , page = todo_list[0]\n",
    "\n",
    "while layer < max_layers:\n",
    "    del todo_list[0]\n",
    "    done_set.add(page)\n",
    "    print(layer,page)\n",
    "\n",
    "    try:\n",
    "        wikiPage = wiki.page(page)\n",
    "    except:\n",
    "        layer,page = todo_list[0]\n",
    "        print(\"Could not load\", page)\n",
    "        continue\n",
    "    \n",
    "    for link in wikiPage.links:\n",
    "        link = link.title()\n",
    "        if link not in STOPS and not link.startswith(\"List Of\") and not link.startswith(\"Glossary Of\"):\n",
    "            if link not in todo_set and link not in done_set:\n",
    "                todo_list.append((layer + 1, link))\n",
    "                todo_set.add(link)\n",
    "            G.add_edge(page, link)\n",
    "    layer, page = todo_list[0]"
   ]
  },
  {
   "cell_type": "code",
   "execution_count": null,
   "metadata": {},
   "outputs": [],
   "source": [
    "print(\"{} nodes, {} edges\".format(len(G), nx.number_of_edges(G)))"
   ]
  },
  {
   "cell_type": "markdown",
   "metadata": {},
   "source": [
    "De duplicate"
   ]
  },
  {
   "cell_type": "code",
   "execution_count": 119,
   "metadata": {},
   "outputs": [
    {
     "name": "stdout",
     "output_type": "stream",
     "text": [
      "1\n",
      "2\n",
      "3\n",
      "4\n"
     ]
    }
   ],
   "source": [
    "G.remove_edges_from(G.selfloop_edges())\n",
    "duplicates = [(node, node + \"s\") for node in G if node + \"s\" in G]\n",
    "print(\"1\")\n",
    "for dup in duplicates:\n",
    "    G = nx.contracted_nodes(G, *dup, self_loops=False)\n",
    "print(\"2\")\n",
    "duplicates = [(x, y) for x, y \n",
    "              in [(node, node.replace(\"-\", \" \")) for node in G]\n",
    "              if x != y and y in G]\n",
    "print(\"3\")\n",
    "for dup in duplicates:\n",
    "    G = nx.contracted_nodes(G, *dup, self_loops=False)\n",
    "print(\"4\")\n",
    "nx.set_node_attributes(G, 0, \"contraction\")"
   ]
  },
  {
   "cell_type": "markdown",
   "metadata": {},
   "source": [
    "Truncate"
   ]
  },
  {
   "cell_type": "code",
   "execution_count": 122,
   "metadata": {},
   "outputs": [
    {
     "name": "stdout",
     "output_type": "stream",
     "text": [
      "23075 nodes, 122164 edges\n"
     ]
    }
   ],
   "source": [
    "core = [node for node, deg in dict(G.degree()).items() if deg >= 2]\n",
    "G = nx.subgraph(G, core)\n",
    "print(\"{} nodes, {} edges\".format(len(G), nx.number_of_edges(G)))\n",
    "# 2995 nodes, 11817 edges\n",
    "nx.write_graphml(G, \"compsci.graphml\")"
   ]
  },
  {
   "cell_type": "markdown",
   "metadata": {},
   "source": [
    "Print top degrees"
   ]
  },
  {
   "cell_type": "code",
   "execution_count": 125,
   "metadata": {},
   "outputs": [
    {
     "name": "stdout",
     "output_type": "stream",
     "text": [
      "309 Help:Authority Control\n",
      "274 Category:Wikipedia Articles With Gnd Identifiers\n",
      "273 Integrated Authority File\n",
      "216 Computer Science\n",
      "203 Wikipedia:Citation Needed\n",
      "195 Category:Wikipedia Articles With Ndl Identifiers\n",
      "168 Category:Wikipedia Articles With Lccn Identifiers\n",
      "161 Wayback Machine\n",
      "157 Help:Maintenance Template Removal\n",
      "121 Software Design\n",
      "121 Wikipedia:Verifiability\n",
      "119 Programming Paradigm\n",
      "119 Statistic\n",
      "119 Formal Method\n",
      "118 Modeling Language\n",
      "118 Software Configuration Management\n",
      "117 Artificial Intelligence\n",
      "117 Computer Engineering\n",
      "117 Software Maintenance\n",
      "116 Software Deployment\n",
      "116 Software Development Process\n",
      "115 Software Quality\n",
      "112 Software Engineering\n",
      "110 Mathematic\n",
      "108 Information Theory\n",
      "107 Algorithm\n",
      "105 Computational Physics\n",
      "104 Software\n",
      "104 Wikipedia:Citing Sources\n",
      "103 Systems Engineering\n",
      "102 Physics\n",
      "100 Bibliothèque Nationale De France\n",
      "100 Operations Research\n",
      "99 Category:Wikipedia Articles With Bnf Identifiers\n",
      "97 Biology\n",
      "97 Control Theory\n",
      "95 Help:Introduction To Referencing With Wiki Markup/1\n",
      "91 Computational Biology\n",
      "91 Computer Programming\n",
      "89 Programming Language\n",
      "87 Operating System\n",
      "85 Edsger W. Dijkstra\n",
      "85 Mathematical Optimization\n",
      "84 Computer Network\n",
      "84 Systems Analysis\n",
      "83 Information System\n",
      "83 Ontology (Information Science)\n",
      "83 World Wide Web\n",
      "82 Computer Hardware\n",
      "82 Project Management\n",
      "82 Software Development\n",
      "81 Chemistry\n",
      "81 Engineering\n",
      "81 Machine Learning\n",
      "81 Numerical Analysis\n",
      "81 Object-Oriented Programming\n",
      "81 Theory Of Computation\n",
      "79 Computational Chemistry\n",
      "79 Geographic Information System\n",
      "78 Cryptography\n",
      "78 Distributed Computing\n",
      "78 Risk Management\n",
      "77 Niklaus Wirth\n",
      "77 Requirements Analysis\n",
      "77 Unified Modeling Language\n",
      "76 Software Architecture\n",
      "75 Computer Graphics\n",
      "75 Function Model\n",
      "74 Data Mining\n",
      "74 Data Modeling\n",
      "74 Idef\n",
      "74 Parallel Computing\n",
      "73 Agile Software Development\n",
      "73 Enterprise Architecture\n",
      "73 Fred Brooks\n",
      "73 Functional Specification\n",
      "73 Grace Hopper\n",
      "73 Integrated Circuit\n",
      "73 Integrated Development Environment\n",
      "73 Psychology\n",
      "73 Service-Oriented Architecture\n",
      "73 Systems Development Life Cycle\n",
      "73 Systems Modeling\n",
      "73 Tony Hoare\n",
      "72 Biophysics\n",
      "72 Data Model\n",
      "72 Discrete Mathematics\n",
      "72 Electrical Engineering\n",
      "72 Requirements Engineering\n",
      "72 Software Testing\n",
      "72 Systems Modeling Language\n",
      "72 Waterfall Model\n",
      "71 Alan Kay\n",
      "71 Computational Complexity Theory\n",
      "71 Computational Mathematics\n",
      "71 Computer Architecture\n",
      "71 Entity–Relationship Model\n",
      "71 Iterative And Incremental Development\n",
      "71 Object Model\n",
      "71 Probability\n"
     ]
    }
   ],
   "source": [
    "top_indegree = sorted(dict(G.in_degree()).items(),\n",
    "                      reverse=True, key=itemgetter(1))[:100]\n",
    "print(\"\\n\".join(map(lambda t: \"{} {}\".format(*reversed(t)), top_indegree)))"
   ]
  },
  {
   "cell_type": "code",
   "execution_count": 126,
   "metadata": {
    "collapsed": true
   },
   "outputs": [],
   "source": [
    "#print full graph\n",
    "nx.write_gexf(G, \"graphFile_ComputerScience.gexf\")"
   ]
  },
  {
   "cell_type": "code",
   "execution_count": 8,
   "metadata": {},
   "outputs": [
    {
     "name": "stdout",
     "output_type": "stream",
     "text": [
      "23075 122164\n"
     ]
    }
   ],
   "source": [
    "#load the graph file\n",
    "G = nx.read_graphml(\"compsci.graphml\")\n",
    "print(len(G.nodes()), len(G.edges))"
   ]
  },
  {
   "cell_type": "code",
   "execution_count": 32,
   "metadata": {},
   "outputs": [
    {
     "name": "stdout",
     "output_type": "stream",
     "text": [
      "418\n"
     ]
    }
   ],
   "source": [
    "#cull nodes with degree less than a set value\n",
    "node_degree_cutoff = 100\n",
    "\n",
    "to_keep = [node for node, deg in dict(G.degree()).items() if deg >= node_degree_cutoff]\n",
    "small = G.subgraph(to_keep)\n",
    "\n",
    "print(len(small.nodes()))\n",
    "nx.write_gexf(small, \"graphFile_ComputerScience_culled.gexf\")"
   ]
  }
 ],
 "metadata": {
  "kernelspec": {
   "display_name": "Python 3",
   "language": "python",
   "name": "python3"
  },
  "language_info": {
   "codemirror_mode": {
    "name": "ipython",
    "version": 3
   },
   "file_extension": ".py",
   "mimetype": "text/x-python",
   "name": "python",
   "nbconvert_exporter": "python",
   "pygments_lexer": "ipython3",
   "version": "3.6.3"
  }
 },
 "nbformat": 4,
 "nbformat_minor": 2
}
